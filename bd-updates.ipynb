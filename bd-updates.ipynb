{
 "cells": [
  {
   "cell_type": "code",
   "execution_count": 1,
   "metadata": {},
   "outputs": [],
   "source": [
    "#imports\n",
    "import numpy as np \n",
    "import pandas as pd \n",
    "from scipy import stats\n",
    "from matplotlib import pyplot as plt\n",
    "#from pandas_profiling import ProfileReport\n",
    "import seaborn as sns\n",
    "from sklearn.preprocessing import LabelEncoder\n",
    "from sklearn.preprocessing import OneHotEncoder\n",
    "from sklearn.compose import ColumnTransformer\n",
    "\n",
    "\n",
    "#load data\n",
    "train_x = pd.read_csv('TrainingSetValues.csv')\n",
    "train_y = pd.read_csv('TrainingSetLabels.csv')\n",
    "train = pd.merge(train_y,train_x, how='left', left_on = 'id', right_on='id')\n",
    "\n",
    "test_x = pd.read_csv('TestSetValues.csv')"
   ]
  },
  {
   "cell_type": "code",
   "execution_count": 2,
   "metadata": {},
   "outputs": [],
   "source": [
    "#profile = ProfileReport(train)\n",
    "#profile.to_notebook_iframe()"
   ]
  },
  {
   "cell_type": "code",
   "execution_count": 3,
   "metadata": {},
   "outputs": [],
   "source": [
    "#denote columns to keep\n",
    "cols_keep = ['id', 'status_group', 'amount_tsh', 'funder', 'gps_height', 'installer', 'basin', 'region_code', 'population', 'public_meeting', 'scheme_management', 'permit', 'construction_year', 'extraction_type_class', 'management_group', 'payment', 'quality_group', 'quantity', 'source_type', 'source_class', 'waterpoint_type', 'ward']\n",
    "\n",
    "#create dataframe keeping only these columns\n",
    "train_final = train[cols_keep]"
   ]
  },
  {
   "cell_type": "code",
   "execution_count": 4,
   "metadata": {
    "tags": []
   },
   "outputs": [
    {
     "output_type": "stream",
     "name": "stderr",
     "text": [
      "<ipython-input-4-f1f45baa12d5>:18: SettingWithCopyWarning: \nA value is trying to be set on a copy of a slice from a DataFrame.\nTry using .loc[row_indexer,col_indexer] = value instead\n\nSee the caveats in the documentation: https://pandas.pydata.org/pandas-docs/stable/user_guide/indexing.html#returning-a-view-versus-a-copy\n  train_final['ward'] = train_final.apply(lambda row: 1 if row['ward'] in ward_over_70 else 0, axis = 1).astype('bool')\n"
     ]
    }
   ],
   "source": [
    "#find wards with greater than 70% of pumps broken\n",
    "df = train[['ward','status_group']]\n",
    "\n",
    "#find count of pumps by ward\n",
    "ward_count = df.groupby(['ward'])['ward'].count().reset_index(name=\"ward_total\")\n",
    "#find count of broken pumps by ward\n",
    "ward_count_broken = df.query('status_group == \"non functional\"').groupby(['ward'])['ward'].count().reset_index(name=\"ward_broken\")\n",
    "#join counts\n",
    "ward_count = pd.merge(ward_count, ward_count_broken)\n",
    "#find % broken by ward\n",
    "ward_count['percent_broken'] = ward_count['ward_broken'] / ward_count['ward_total']\n",
    "\n",
    "#generate an index of wards w/ more than 70% pumps broken\n",
    "ward_over_70 = ward_count.groupby('ward')['percent_broken'].max().apply(lambda g: g>0.7)\n",
    "ward_over_70 = ward_over_70[ward_over_70].index\n",
    "\n",
    "#relabel all wards 1 if greater than 70% broken, 0 if else\n",
    "train_final['ward'] = train_final.apply(lambda row: 1 if row['ward'] in ward_over_70 else 0, axis = 1).astype('bool')\n"
   ]
  },
  {
   "cell_type": "code",
   "execution_count": 5,
   "metadata": {},
   "outputs": [
    {
     "output_type": "stream",
     "name": "stderr",
     "text": [
      "<ipython-input-5-3eb7f69e8bd6>:2: SettingWithCopyWarning: \n",
      "A value is trying to be set on a copy of a slice from a DataFrame.\n",
      "Try using .loc[row_indexer,col_indexer] = value instead\n",
      "\n",
      "See the caveats in the documentation: https://pandas.pydata.org/pandas-docs/stable/user_guide/indexing.html#returning-a-view-versus-a-copy\n",
      "  train_final['funder'] = train_final['funder'].replace('0', 'other')\n",
      "<ipython-input-5-3eb7f69e8bd6>:9: SettingWithCopyWarning: \n",
      "A value is trying to be set on a copy of a slice from a DataFrame.\n",
      "Try using .loc[row_indexer,col_indexer] = value instead\n",
      "\n",
      "See the caveats in the documentation: https://pandas.pydata.org/pandas-docs/stable/user_guide/indexing.html#returning-a-view-versus-a-copy\n",
      "  train_final['funder'] = train_final.apply(lambda row: row['funder'] if row['funder'] in funder_over_500 else 'other', axis = 1)\n",
      "<ipython-input-5-3eb7f69e8bd6>:12: SettingWithCopyWarning: \n",
      "A value is trying to be set on a copy of a slice from a DataFrame.\n",
      "Try using .loc[row_indexer,col_indexer] = value instead\n",
      "\n",
      "See the caveats in the documentation: https://pandas.pydata.org/pandas-docs/stable/user_guide/indexing.html#returning-a-view-versus-a-copy\n",
      "  train_final['installer'] = train_final['installer'].replace('0', 'other')\n",
      "<ipython-input-5-3eb7f69e8bd6>:19: SettingWithCopyWarning: \n",
      "A value is trying to be set on a copy of a slice from a DataFrame.\n",
      "Try using .loc[row_indexer,col_indexer] = value instead\n",
      "\n",
      "See the caveats in the documentation: https://pandas.pydata.org/pandas-docs/stable/user_guide/indexing.html#returning-a-view-versus-a-copy\n",
      "  train_final['installer'] = train_final.apply(lambda row: row['installer'] if row['installer'] in funder_over_500 else 'other', axis = 1)\n"
     ]
    }
   ],
   "source": [
    "#replace 0 w/ other in funder column\n",
    "train_final['funder'] = train_final['funder'].replace('0', 'other')\n",
    "\n",
    "#generate an index of funders w/ more than 500 wells\n",
    "funder_over_500 = train_final.groupby('funder')['status_group'].count().apply(lambda g: g>500)\n",
    "funder_over_500 = funder_over_500[funder_over_500].index\n",
    "\n",
    "#relabel all funders w/ less than 500 wells other\n",
    "train_final['funder'] = train_final.apply(lambda row: row['funder'] if row['funder'] in funder_over_500 else 'other', axis = 1)\n",
    "\n",
    "#replace 0 w/ other in installer column\n",
    "train_final['installer'] = train_final['installer'].replace('0', 'other')\n",
    "\n",
    "#generate an index of funders w/ more than 500 wells\n",
    "installer_over_500 = train_final.groupby('installer')['status_group'].count().apply(lambda g: g>500)\n",
    "installer_over_500 = installer_over_500[installer_over_500].index\n",
    "\n",
    "#relabel all funders w/ less than 500 wells other\n",
    "train_final['installer'] = train_final.apply(lambda row: row['installer'] if row['installer'] in funder_over_500 else 'other', axis = 1)"
   ]
  },
  {
   "cell_type": "code",
   "execution_count": 6,
   "metadata": {},
   "outputs": [],
   "source": [
    "#drop duplicates\n",
    "train_final = train_final.drop_duplicates()\n",
    "#change public meeting and permit to bool\n",
    "train_final[['public_meeting', 'permit']] = train_final[['public_meeting', 'permit']].astype('category')"
   ]
  },
  {
   "cell_type": "code",
   "execution_count": 7,
   "metadata": {},
   "outputs": [],
   "source": [
    "#replace management under 1k w/ other\n",
    "train_final['scheme_management'] = train_final['scheme_management'].replace(['SWC', 'Trust', 'None'], 'Other')\n",
    "#fill na management w/ missing\n",
    "train_final['scheme_management'] = train_final['scheme_management'].fillna('Missing')"
   ]
  },
  {
   "cell_type": "code",
   "execution_count": 8,
   "metadata": {},
   "outputs": [],
   "source": [
    "train_final.to_csv('train_final.csv', index=False)"
   ]
  },
  {
   "cell_type": "code",
   "execution_count": 9,
   "metadata": {},
   "outputs": [],
   "source": [
    "#numerically encode categorical variables\n",
    "le = LabelEncoder()\n",
    "train_final = train_final.apply(lambda col: le.fit_transform(col) if col.dtype == 'object' else col)"
   ]
  },
  {
   "cell_type": "code",
   "execution_count": 10,
   "metadata": {},
   "outputs": [],
   "source": [
    "one_hot_list = ['funder', 'installer', 'basin', 'region_code', 'scheme_management', 'extraction_type_class', 'management_group', 'payment', 'quality_group', 'quantity', 'source_type', 'source_class', 'waterpoint_type']"
   ]
  },
  {
   "cell_type": "code",
   "execution_count": 11,
   "metadata": {},
   "outputs": [],
   "source": [
    "# generate binary values using get_dummies\n",
    "dum_df = pd.get_dummies(train_final, columns=one_hot_list)"
   ]
  },
  {
   "cell_type": "code",
   "execution_count": 12,
   "metadata": {},
   "outputs": [],
   "source": [
    "dum_df.to_csv('train_dummy_final.csv', index=False)"
   ]
  },
  {
   "cell_type": "code",
   "execution_count": 13,
   "metadata": {},
   "outputs": [],
   "source": [
    "cols_keep_test = ['id', 'amount_tsh', 'funder', 'gps_height', 'installer', 'basin', 'region_code', 'population', 'public_meeting', 'scheme_management', 'permit', 'construction_year', 'extraction_type_class', 'management_group', 'payment', 'quality_group', 'quantity', 'source_type', 'source_class', 'waterpoint_type', 'ward']\n",
    "\n",
    "test_x = test_x[cols_keep_test]\n",
    "\n",
    "#relabel all wards 1 if greater than 70% broken, 0 if else\n",
    "test_x['ward'] = test_x.apply(lambda row: 1 if row['ward'] in ward_over_70 else 0, axis = 1).astype('bool')\n",
    "\n",
    "#relabel all funders w/ less than 500 wells other\n",
    "test_x['installer'] = test_x.apply(lambda row: row['installer'] if row['installer'] in funder_over_500 else 'other', axis = 1)\n",
    "\n",
    "\n",
    "#relabel all funders w/ less than 500 wells other\n",
    "test_x['funder'] = test_x.apply(lambda row: row['funder'] if row['funder'] in funder_over_500 else 'other', axis = 1)\n",
    "\n",
    "\n",
    "#drop duplicates\n",
    "test_x = test_x.drop_duplicates()\n",
    "\n",
    "#change public meeting and permit to bool\n",
    "test_x[['public_meeting', 'permit']] = test_x[['public_meeting', 'permit']].astype('category')\n",
    "\n",
    "#replace management under 1k w/ other\n",
    "test_x['scheme_management'] = test_x['scheme_management'].replace(['SWC', 'Trust', 'None'], 'Other')\n",
    "#fill na management w/ missing\n",
    "test_x['scheme_management'] = test_x['scheme_management'].fillna('Missing')\n",
    "\n",
    "#to_csv\n",
    "test_x.to_csv('test_final.csv', index=False)\n",
    "\n",
    "test_x = test_x.apply(lambda col: le.fit_transform(col) if col.dtype == 'object' else col)\n",
    "\n",
    "# generate binary values using get_dummies\n",
    "test_dum_df = pd.get_dummies(test_x, columns=one_hot_list)\n",
    "\n",
    "test_dum_df.to_csv('test_dummy_final.csv', index=False)"
   ]
  }
 ],
 "metadata": {
  "kernelspec": {
   "display_name": "Python 3",
   "language": "python",
   "name": "python3"
  },
  "language_info": {
   "codemirror_mode": {
    "name": "ipython",
    "version": 3
   },
   "file_extension": ".py",
   "mimetype": "text/x-python",
   "name": "python",
   "nbconvert_exporter": "python",
   "pygments_lexer": "ipython3",
   "version": "3.8.8-final"
  }
 },
 "nbformat": 4,
 "nbformat_minor": 4
}