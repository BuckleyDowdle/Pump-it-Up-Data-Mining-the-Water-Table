{
 "cells": [
  {
   "cell_type": "code",
   "execution_count": 17,
   "metadata": {},
   "outputs": [],
   "source": [
    "#imports\n",
    "import numpy as np \n",
    "import pandas as pd \n",
    "from scipy import stats\n",
    "from matplotlib import pyplot as plt\n",
    "#from pandas_profiling import ProfileReport\n",
    "import seaborn as sns\n",
    "from sklearn.preprocessing import LabelEncoder\n",
    "from sklearn.preprocessing import OneHotEncoder\n",
    "from sklearn.compose import ColumnTransformer\n",
    "from sklearn.utils import resample\n",
    "\n",
    "\n",
    "#load data\n",
    "train_x = pd.read_csv('TrainingSetValues.csv')\n",
    "train_y = pd.read_csv('TrainingSetLabels.csv')\n",
    "train = pd.merge(train_y,train_x, how='left', left_on = 'id', right_on='id')\n",
    "\n",
    "test_x = pd.read_csv('TestSetValues.csv')"
   ]
  },
  {
   "cell_type": "code",
   "execution_count": 18,
   "metadata": {},
   "outputs": [],
   "source": [
    "#profile = ProfileReport(train)\n",
    "#profile.to_notebook_iframe()"
   ]
  },
  {
   "cell_type": "code",
   "execution_count": 19,
   "metadata": {},
   "outputs": [],
   "source": [
    "#denote columns to keep\n",
    "cols_keep = ['id', 'status_group', 'amount_tsh', 'funder', 'gps_height', 'installer', 'basin', 'region_code', 'population', 'public_meeting', 'scheme_management', 'permit', 'construction_year', 'extraction_type_class', 'management_group', 'payment', 'quality_group', 'quantity', 'source_type', 'source_class', 'waterpoint_type', 'ward']\n",
    "\n",
    "#create dataframe keeping only these columns\n",
    "train_final = train[cols_keep]"
   ]
  },
  {
   "cell_type": "code",
   "execution_count": 20,
   "metadata": {
    "tags": []
   },
   "outputs": [
    {
     "name": "stderr",
     "output_type": "stream",
     "text": [
      "/apps/software/standard/compiler/gcc/9.2.0/jupyter_conda/2019.10-py3.7/lib/python3.7/site-packages/ipykernel_launcher.py:18: SettingWithCopyWarning: \n",
      "A value is trying to be set on a copy of a slice from a DataFrame.\n",
      "Try using .loc[row_indexer,col_indexer] = value instead\n",
      "\n",
      "See the caveats in the documentation: https://pandas.pydata.org/pandas-docs/stable/user_guide/indexing.html#returning-a-view-versus-a-copy\n"
     ]
    }
   ],
   "source": [
    "#find wards with greater than 70% of pumps broken\n",
    "df = train[['ward','status_group']]\n",
    "\n",
    "#find count of pumps by ward\n",
    "ward_count = df.groupby(['ward'])['ward'].count().reset_index(name=\"ward_total\")\n",
    "#find count of broken pumps by ward\n",
    "ward_count_broken = df.query('status_group == \"non functional\"').groupby(['ward'])['ward'].count().reset_index(name=\"ward_broken\")\n",
    "#join counts\n",
    "ward_count = pd.merge(ward_count, ward_count_broken)\n",
    "#find % broken by ward\n",
    "ward_count['percent_broken'] = ward_count['ward_broken'] / ward_count['ward_total']\n",
    "\n",
    "#generate an index of wards w/ more than 70% pumps broken\n",
    "ward_over_70 = ward_count.groupby('ward')['percent_broken'].max().apply(lambda g: g>0.7)\n",
    "ward_over_70 = ward_over_70[ward_over_70].index\n",
    "\n",
    "#relabel all wards 1 if greater than 70% broken, 0 if else\n",
    "train_final['ward'] = train_final.apply(lambda row: 1 if row['ward'] in ward_over_70 else 0, axis = 1).astype('bool')\n"
   ]
  },
  {
   "cell_type": "code",
   "execution_count": 21,
   "metadata": {},
   "outputs": [
    {
     "name": "stderr",
     "output_type": "stream",
     "text": [
      "/apps/software/standard/compiler/gcc/9.2.0/jupyter_conda/2019.10-py3.7/lib/python3.7/site-packages/ipykernel_launcher.py:2: SettingWithCopyWarning: \n",
      "A value is trying to be set on a copy of a slice from a DataFrame.\n",
      "Try using .loc[row_indexer,col_indexer] = value instead\n",
      "\n",
      "See the caveats in the documentation: https://pandas.pydata.org/pandas-docs/stable/user_guide/indexing.html#returning-a-view-versus-a-copy\n",
      "  \n",
      "/apps/software/standard/compiler/gcc/9.2.0/jupyter_conda/2019.10-py3.7/lib/python3.7/site-packages/ipykernel_launcher.py:9: SettingWithCopyWarning: \n",
      "A value is trying to be set on a copy of a slice from a DataFrame.\n",
      "Try using .loc[row_indexer,col_indexer] = value instead\n",
      "\n",
      "See the caveats in the documentation: https://pandas.pydata.org/pandas-docs/stable/user_guide/indexing.html#returning-a-view-versus-a-copy\n",
      "  if __name__ == '__main__':\n",
      "/apps/software/standard/compiler/gcc/9.2.0/jupyter_conda/2019.10-py3.7/lib/python3.7/site-packages/ipykernel_launcher.py:12: SettingWithCopyWarning: \n",
      "A value is trying to be set on a copy of a slice from a DataFrame.\n",
      "Try using .loc[row_indexer,col_indexer] = value instead\n",
      "\n",
      "See the caveats in the documentation: https://pandas.pydata.org/pandas-docs/stable/user_guide/indexing.html#returning-a-view-versus-a-copy\n",
      "  if sys.path[0] == '':\n",
      "/apps/software/standard/compiler/gcc/9.2.0/jupyter_conda/2019.10-py3.7/lib/python3.7/site-packages/ipykernel_launcher.py:19: SettingWithCopyWarning: \n",
      "A value is trying to be set on a copy of a slice from a DataFrame.\n",
      "Try using .loc[row_indexer,col_indexer] = value instead\n",
      "\n",
      "See the caveats in the documentation: https://pandas.pydata.org/pandas-docs/stable/user_guide/indexing.html#returning-a-view-versus-a-copy\n"
     ]
    }
   ],
   "source": [
    "#replace 0 w/ other in funder column\n",
    "train_final['funder'] = train_final['funder'].replace('0', 'other')\n",
    "\n",
    "#generate an index of funders w/ more than 500 wells\n",
    "funder_over_500 = train_final.groupby('funder')['status_group'].count().apply(lambda g: g>500)\n",
    "funder_over_500 = funder_over_500[funder_over_500].index\n",
    "\n",
    "#relabel all funders w/ less than 500 wells other\n",
    "train_final['funder'] = train_final.apply(lambda row: row['funder'] if row['funder'] in funder_over_500 else 'other', axis = 1)\n",
    "\n",
    "#replace 0 w/ other in installer column\n",
    "train_final['installer'] = train_final['installer'].replace('0', 'other')\n",
    "\n",
    "#generate an index of funders w/ more than 500 wells\n",
    "installer_over_500 = train_final.groupby('installer')['status_group'].count().apply(lambda g: g>500)\n",
    "installer_over_500 = installer_over_500[installer_over_500].index\n",
    "\n",
    "#relabel all funders w/ less than 500 wells other\n",
    "train_final['installer'] = train_final.apply(lambda row: row['installer'] if row['installer'] in funder_over_500 else 'other', axis = 1)"
   ]
  },
  {
   "cell_type": "code",
   "execution_count": 22,
   "metadata": {},
   "outputs": [],
   "source": [
    "#drop duplicates\n",
    "train_final = train_final.drop_duplicates()\n",
    "#change public meeting and permit to bool\n",
    "train_final[['public_meeting', 'permit']] = train_final[['public_meeting', 'permit']].astype('category')"
   ]
  },
  {
   "cell_type": "code",
   "execution_count": 23,
   "metadata": {},
   "outputs": [],
   "source": [
    "#replace management under 1k w/ other\n",
    "train_final['scheme_management'] = train_final['scheme_management'].replace(['SWC', 'Trust', 'None'], 'Other')\n",
    "#fill na management w/ missing\n",
    "train_final['scheme_management'] = train_final['scheme_management'].fillna('Missing')"
   ]
  },
  {
   "cell_type": "code",
   "execution_count": 24,
   "metadata": {},
   "outputs": [],
   "source": [
    "train_final.to_csv('train_final.csv', index=False)"
   ]
  },
  {
   "cell_type": "code",
   "execution_count": 25,
   "metadata": {},
   "outputs": [],
   "source": [
    "#numerically encode categorical variables\n",
    "le = LabelEncoder()\n",
    "train_final = train_final.apply(lambda col: le.fit_transform(col) if col.dtype == 'object' else col)"
   ]
  },
  {
   "cell_type": "code",
   "execution_count": 26,
   "metadata": {},
   "outputs": [],
   "source": [
    "one_hot_list = ['funder', 'installer', 'basin', 'region_code', 'scheme_management', 'extraction_type_class', 'management_group', 'payment', 'quality_group', 'quantity', 'source_type', 'source_class', 'waterpoint_type']"
   ]
  },
  {
   "cell_type": "code",
   "execution_count": 27,
   "metadata": {},
   "outputs": [],
   "source": [
    "# generate binary values using get_dummies\n",
    "dum_df = pd.get_dummies(train_final, columns=one_hot_list)"
   ]
  },
  {
   "cell_type": "code",
   "execution_count": 28,
   "metadata": {},
   "outputs": [],
   "source": [
    "dum_df.to_csv('train_dummy_final.csv', index=False)"
   ]
  },
  {
   "cell_type": "code",
   "execution_count": 29,
   "metadata": {},
   "outputs": [],
   "source": [
    "cols_keep_test = ['id', 'amount_tsh', 'funder', 'gps_height', 'installer', 'basin', 'region_code', 'population', 'public_meeting', 'scheme_management', 'permit', 'construction_year', 'extraction_type_class', 'management_group', 'payment', 'quality_group', 'quantity', 'source_type', 'source_class', 'waterpoint_type', 'ward']\n",
    "\n",
    "test_x = test_x[cols_keep_test]\n",
    "\n",
    "#relabel all wards 1 if greater than 70% broken, 0 if else\n",
    "test_x['ward'] = test_x.apply(lambda row: 1 if row['ward'] in ward_over_70 else 0, axis = 1).astype('bool')\n",
    "\n",
    "#relabel all funders w/ less than 500 wells other\n",
    "test_x['installer'] = test_x.apply(lambda row: row['installer'] if row['installer'] in funder_over_500 else 'other', axis = 1)\n",
    "\n",
    "\n",
    "#relabel all funders w/ less than 500 wells other\n",
    "test_x['funder'] = test_x.apply(lambda row: row['funder'] if row['funder'] in funder_over_500 else 'other', axis = 1)\n",
    "\n",
    "\n",
    "#drop duplicates\n",
    "test_x = test_x.drop_duplicates()\n",
    "\n",
    "#change public meeting and permit to bool\n",
    "test_x[['public_meeting', 'permit']] = test_x[['public_meeting', 'permit']].astype('category')\n",
    "\n",
    "#replace management under 1k w/ other\n",
    "test_x['scheme_management'] = test_x['scheme_management'].replace(['SWC', 'Trust', 'None'], 'Other')\n",
    "#fill na management w/ missing\n",
    "test_x['scheme_management'] = test_x['scheme_management'].fillna('Missing')\n",
    "\n",
    "#to_csv\n",
    "test_x.to_csv('test_final.csv', index=False)\n",
    "\n",
    "test_x = test_x.apply(lambda col: le.fit_transform(col) if col.dtype == 'object' else col)\n",
    "\n",
    "# generate binary values using get_dummies\n",
    "test_dum_df = pd.get_dummies(test_x, columns=one_hot_list)\n",
    "\n",
    "test_dum_df.to_csv('test_dummy_final.csv', index=False)"
   ]
  },
  {
   "cell_type": "code",
   "execution_count": 30,
   "metadata": {},
   "outputs": [
    {
     "data": {
      "text/plain": [
       "0    32259\n",
       "2    22824\n",
       "1     4317\n",
       "Name: status_group, dtype: int64"
      ]
     },
     "execution_count": 30,
     "metadata": {},
     "output_type": "execute_result"
    }
   ],
   "source": [
    "dum_df.status_group.value_counts()"
   ]
  },
  {
   "cell_type": "code",
   "execution_count": 40,
   "metadata": {},
   "outputs": [],
   "source": [
    "#seperate each class for resampling\n",
    "dum_df_0 = dum_df[dum_df.status_group==0]\n",
    "dum_df_1 = dum_df[dum_df.status_group==1]\n",
    "dum_df_2 = dum_df[dum_df.status_group==2]\n",
    "\n",
    "#resample class 1 and 2 up to size of class 0\n",
    "dum_df_1 = resample(dum_df_1, replace=True, n_samples=32259, random_state=20)\n",
    "dum_df_2 = resample(dum_df_2, replace=True, n_samples=32259, random_state=20)\n",
    "\n",
    "#concat dataframes\n",
    "dum_df_list = [dum_df_0, dum_df_1, dum_df_2]\n",
    "dum_df_upsampled = pd.concat(dum_df_list)\n",
    "dum_df_upsampled.to_csv('train_dummy_upsampled_final.csv', index=False)"
   ]
  },
  {
   "cell_type": "code",
   "execution_count": null,
   "metadata": {},
   "outputs": [],
   "source": []
  }
 ],
 "metadata": {
  "kernelspec": {
   "display_name": "Python 3",
   "language": "python",
   "name": "python3"
  },
  "language_info": {
   "codemirror_mode": {
    "name": "ipython",
    "version": 3
   },
   "file_extension": ".py",
   "mimetype": "text/x-python",
   "name": "python",
   "nbconvert_exporter": "python",
   "pygments_lexer": "ipython3",
   "version": "3.7.4"
  }
 },
 "nbformat": 4,
 "nbformat_minor": 4
}
