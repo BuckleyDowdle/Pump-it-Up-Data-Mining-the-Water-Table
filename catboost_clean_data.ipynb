{
 "cells": [
  {
   "cell_type": "code",
   "execution_count": 20,
   "metadata": {},
   "outputs": [],
   "source": [
    "import pandas as pd \n",
    "import numpy as np\n",
    "from sklearn.model_selection import cross_val_score\n",
    "from catboost import CatBoostClassifier\n",
    "from sklearn.model_selection import train_test_split, GridSearchCV\n",
    "from sklearn.metrics import confusion_matrix\n",
    "from sklearn.metrics import accuracy_score, make_scorer"
   ]
  },
  {
   "cell_type": "code",
   "execution_count": 21,
   "metadata": {},
   "outputs": [],
   "source": [
    "#import the data\n",
    "train_x = pd.read_csv(\"train_final.csv\")\n",
    "# train_y = pd.read_csv(\"TrainingSetLabels.csv\")\n",
    "test_x = pd.read_csv(\"test_final.csv\")\n",
    "data = pd.read_csv(\"names.csv\")"
   ]
  },
  {
   "cell_type": "code",
   "execution_count": 22,
   "metadata": {},
   "outputs": [],
   "source": [
    "# # set ID as index for train x and y \n",
    "train_x = train_x.set_index(['id'])\n",
    "# train_y = train_y.set_index(['id'])"
   ]
  },
  {
   "cell_type": "code",
   "execution_count": 24,
   "metadata": {},
   "outputs": [],
   "source": [
    "#create x/y split for trianing \n",
    "train_y = pd.DataFrame(train_x['status_group'])\n",
    "train_x = train_x.drop(['status_group'], axis = 1)"
   ]
  },
  {
   "cell_type": "code",
   "execution_count": 25,
   "metadata": {},
   "outputs": [],
   "source": [
    "#save test id and drop \n",
    "test_id = pd.DataFrame(test_x['id'])\n",
    "test_x = test_x.drop(['id'], axis = 1)"
   ]
  },
  {
   "cell_type": "code",
   "execution_count": 26,
   "metadata": {},
   "outputs": [],
   "source": [
    "#Imputing missing values for both train and test\n",
    "train_x.fillna(-999, inplace=True)\n",
    "test_x.fillna(-999,inplace=True)\n",
    "# train_x.isnull().sum()\n",
    "# test_x.isnull().sum()"
   ]
  },
  {
   "cell_type": "code",
   "execution_count": 27,
   "metadata": {},
   "outputs": [],
   "source": [
    "#convert output status group to 1,2,3 \n",
    " \n",
    "replace_map = {\"non functional\":3, \n",
    "              \"functional needs repair\":2,\n",
    "              \"functional\":1}\n",
    "\n",
    "train_y['status_group code'] = train_y['status_group'].replace(replace_map)"
   ]
  },
  {
   "cell_type": "code",
   "execution_count": 28,
   "metadata": {},
   "outputs": [],
   "source": [
    "#subset data train \n",
    "# names = data.name.tolist()\n",
    "# train_x = train_x[names]\n",
    "\n",
    "# train_x.dtypes\n",
    "#train_x.isnull().sum()"
   ]
  },
  {
   "cell_type": "code",
   "execution_count": null,
   "metadata": {},
   "outputs": [],
   "source": [
    "#set data type for non int numbers\n",
    "train_x = train_x.astype({\"amount_tsh\": int})\n",
    "test_x = test_x.astype({\"amount_tsh\": int})"
   ]
  },
  {
   "cell_type": "code",
   "execution_count": 29,
   "metadata": {},
   "outputs": [],
   "source": [
    "#split data just for testing \n",
    "X_train, X_test, Y_train, Y_test = train_test_split(train_x, train_y['status_group code'], train_size=0.6, random_state=42)\n",
    "#Identify cat features for model\n",
    "categorical_features_indices = np.where(train_x.dtypes != np.float)[0]"
   ]
  },
  {
   "cell_type": "code",
   "execution_count": 30,
   "metadata": {},
   "outputs": [],
   "source": [
    "## test model \n",
    "# model_test = CatBoostClassifier(depth = 10, \n",
    "#                                iterations = 500,\n",
    "#                                l2_leaf_reg = 2,\n",
    "#                                leaf_estimation_iterations = 10,\n",
    "#                                loss_function = 'MultiClass',\n",
    "#                                random_seed = 42)\n",
    "                   \n",
    "# model_test.fit(X_train, Y_train ,cat_features=categorical_features_indices)\n",
    "# preds_class_full = model_test.predict(X_test)\n",
    "# accuracy_score(preds_class_full,Y_test)\n",
    "\n"
   ]
  },
  {
   "cell_type": "code",
   "execution_count": 31,
   "metadata": {},
   "outputs": [],
   "source": [
    "# from sklearn.metrics import confusion_matrix\n",
    "\n",
    "# confusion_matrix(preds_class_full,Y_test)"
   ]
  },
  {
   "cell_type": "code",
   "execution_count": 32,
   "metadata": {},
   "outputs": [],
   "source": [
    "#grid search\n",
    "clf = CatBoostClassifier()\n",
    "params = {'iterations': [1],\n",
    "          'learning_rate': [.05, .1,.5, 1],\n",
    "          'depth': [10],\n",
    "          'loss_function': ['MultiClass'],\n",
    "          'logging_level':['Silent'],\n",
    "          'random_seed': [42]\n",
    "         }\n",
    "\n",
    "params = {'depth':[6,8,10],\n",
    "          'iterations':[500],\n",
    "          'learning_rate':[0.01,0.1,0.2,0.5],\n",
    "          'logging_level':['Silent'],\n",
    "          'l2_leaf_reg':[3,1,5,10,100]}\n",
    "\n",
    "\n",
    "scorer = make_scorer(accuracy_score)\n",
    "clf_grid = GridSearchCV(estimator=clf, param_grid=params, scoring=scorer, cv=5)\n",
    "\n"
   ]
  },
  {
   "cell_type": "code",
   "execution_count": null,
   "metadata": {},
   "outputs": [],
   "source": [
    "clf_grid.fit(X_train, Y_train, cat_features=categorical_features_indices)\n",
    "best_param = clf_grid.best_params_\n",
    "best_param"
   ]
  },
  {
   "cell_type": "code",
   "execution_count": null,
   "metadata": {},
   "outputs": [],
   "source": []
  },
  {
   "cell_type": "code",
   "execution_count": null,
   "metadata": {},
   "outputs": [],
   "source": [
    "# #full model from grid search parameters\n",
    "\n",
    "# categorical_features_indices = np.where(train_x.dtypes != np.float)[0]\n",
    "# #full model\n",
    "# model_full = CatBoostClassifier(depth = 10, \n",
    "#                                iterations = 1000,\n",
    "#                                 learning_rate =   .1,\n",
    "#                                leaf_estimation_iterations = 10,\n",
    "#                                loss_function = 'MultiClass',\n",
    "#                                random_seed = 42)\n",
    "                   \n",
    "# model_full.fit(train_x, train_y['status_group code'] ,cat_features=categorical_features_indices)\n",
    "\n"
   ]
  },
  {
   "cell_type": "code",
   "execution_count": null,
   "metadata": {},
   "outputs": [],
   "source": [
    "#send best param to \n",
    "pd.DataFrame.from_dict(best_param, orient='index').to_csv('best_param.csv')"
   ]
  },
  {
   "cell_type": "code",
   "execution_count": null,
   "metadata": {},
   "outputs": [],
   "source": [
    "#create submission file\n",
    "#Create predictions\n",
    "preds_class_full = model_full.predict(test_x)\n",
    "#submision\n",
    "preds_class_full = pd.DataFrame(preds_class_full)\n",
    "submission = pd.concat([test_id, preds_class_full], axis=1)\n",
    "submission.columns = ['id', 'status_group']\n",
    "replace_map2 = {3:\"non functional\", \n",
    "              2:\"functional needs repair\",\n",
    "              1:\"functional\"}\n",
    "\n",
    "submission['status_group'] = submission['status_group'].replace(replace_map2)\n",
    "submission.to_csv(\"submision.csv\", index=False)"
   ]
  }
 ],
 "metadata": {
  "kernelspec": {
   "display_name": "Python 3",
   "language": "python",
   "name": "python3"
  },
  "language_info": {
   "codemirror_mode": {
    "name": "ipython",
    "version": 3
   },
   "file_extension": ".py",
   "mimetype": "text/x-python",
   "name": "python",
   "nbconvert_exporter": "python",
   "pygments_lexer": "ipython3",
   "version": "3.7.4"
  }
 },
 "nbformat": 4,
 "nbformat_minor": 4
}
