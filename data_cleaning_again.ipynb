{
 "cells": [
  {
   "cell_type": "code",
   "execution_count": 28,
   "metadata": {},
   "outputs": [],
   "source": [
    "#imports\n",
    "import numpy as np \n",
    "import pandas as pd \n",
    "from scipy import stats\n",
    "from matplotlib import pyplot as plt\n",
    "#from pandas_profiling import ProfileReport\n",
    "import seaborn as sns\n",
    "from sklearn.preprocessing import LabelEncoder\n",
    "from sklearn.preprocessing import OneHotEncoder\n",
    "from sklearn.compose import ColumnTransformer\n",
    "from sklearn.utils import resample\n",
    "\n",
    "#load data\n",
    "train_x = pd.read_csv('TrainingSetValues.csv')\n",
    "train_y = pd.read_csv('TrainingSetLabels.csv')\n",
    "train = pd.merge(train_y,train_x, how='left', left_on = 'id', right_on='id')\n",
    "\n",
    "test_x = pd.read_csv('TestSetValues.csv')"
   ]
  },
  {
   "cell_type": "code",
   "execution_count": 29,
   "metadata": {},
   "outputs": [],
   "source": [
    "#denote columns to keep\n",
    "col_to_drop = ['scheme_management', 'quantity_group', 'water_quality', \n",
    "               'payment_type', 'extraction_type', 'waterpoint_type_group', \n",
    "               'region_code', 'date_recorded', 'recorded_by']\n",
    "#drop dolumns\n",
    "train = train.drop(col_to_drop, axis = 1)"
   ]
  },
  {
   "cell_type": "code",
   "execution_count": 30,
   "metadata": {},
   "outputs": [],
   "source": [
    "#make string columns lowercase\n",
    "train['installer'] = train.installer.str.lower()\n",
    "train['funder'] = train.funder.str.lower()\n",
    "\n",
    "#replace 0 w/ other in funder column\n",
    "train['funder'] = train['funder'].replace('0', 'other')\n",
    "\n",
    "#generate an index of funders w/ more than 100 wells\n",
    "funder_over_100 = train.groupby('funder')['status_group'].count().apply(lambda g: g>100)\n",
    "funder_over_100 = funder_over_100[funder_over_100].index\n",
    "\n",
    "#relabel all funders w/ less than 100 wells other\n",
    "train['funder'] = train.apply(lambda row: row['funder'] if row['funder'] in funder_over_100 else 'other', axis = 1)\n",
    "\n",
    "#replace 0 w/ other in installer column\n",
    "train['installer'] = train['installer'].replace('0', 'other')\n",
    "\n",
    "#generate an index of funders w/ more than 100 wells\n",
    "installer_over_100 = train.groupby('installer')['status_group'].count().apply(lambda g: g>100)\n",
    "installer_over_100 = installer_over_100[installer_over_100].index\n",
    "\n",
    "#relabel all funders w/ less than 100 wells other\n",
    "train['installer'] = train.apply(lambda row: row['installer'] if row['installer'] in installer_over_100 else 'other', axis = 1)"
   ]
  },
  {
   "cell_type": "code",
   "execution_count": 31,
   "metadata": {},
   "outputs": [],
   "source": [
    "scheme_name_modes = pd.DataFrame(train.groupby('region').scheme_name.apply(lambda x: x.mode())).reset_index().drop('level_1', axis=1).set_index('region')['scheme_name'].to_dict()\n",
    "\n",
    "subvillage_modes = pd.DataFrame(train.groupby('region').subvillage.apply(lambda x: x.mode())).reset_index().drop('level_1', axis=1).set_index('region')['subvillage'].to_dict()\n",
    "\n",
    "permit_modes = pd.DataFrame(train.groupby('region').permit.apply(lambda x: x.mode())).reset_index().drop('level_1', axis=1).set_index('region')['permit'].to_dict()\n",
    "\n",
    "public_meeting_modes = pd.DataFrame(train.groupby('region').public_meeting.apply(lambda x: x.mode())).reset_index().drop('level_1', axis=1).set_index('region')['public_meeting'].to_dict()\n",
    "\n",
    "latitude_means = pd.DataFrame(train.groupby('region').latitude.apply(lambda x: x.mean())).reset_index().set_index('region')['latitude'].to_dict()\n",
    "\n",
    "longitude_means = pd.DataFrame(train.groupby('region').longitude.apply(lambda x: x.mean())).reset_index().set_index('region')['longitude'].to_dict()"
   ]
  },
  {
   "cell_type": "code",
   "execution_count": 32,
   "metadata": {},
   "outputs": [],
   "source": [
    "train.scheme_name = train.scheme_name.fillna(train.region.map(scheme_name_modes))\n",
    "train.subvillage = train.subvillage.fillna(train.region.map(subvillage_modes))\n",
    "train.permit = train.permit.fillna(train.region.map(permit_modes))\n",
    "train.public_meeting = train.public_meeting.fillna(train.region.map(public_meeting_modes))"
   ]
  },
  {
   "cell_type": "code",
   "execution_count": 33,
   "metadata": {},
   "outputs": [],
   "source": [
    "train.latitude = train.apply(lambda row: latitude_means[row.region] if row.latitude ==  -2.000000e-08 else row.latitude, axis=1)\n",
    "\n",
    "train.longitude = train.apply(lambda row: longitude_means[row.region] if row.longitude ==  0 else row.longitude, axis=1)\n"
   ]
  },
  {
   "cell_type": "code",
   "execution_count": 34,
   "metadata": {},
   "outputs": [],
   "source": [
    "test_x = test_x.drop(col_to_drop, axis = 1)\n",
    "\n",
    "#make string columns lowercase\n",
    "test_x['installer'] = test_x.installer.str.lower()\n",
    "test_x['funder'] = test_x.funder.str.lower()\n",
    "\n",
    "#replace 0 w/ other in funder column\n",
    "test_x['funder'] = test_x['funder'].replace('0', 'other')\n",
    "\n",
    "\n",
    "#relabel all funders w/ less than 100 wells other\n",
    "test_x['funder'] = test_x.apply(lambda row: row['funder'] if row['funder'] in funder_over_100 else 'other', axis = 1)\n",
    "\n",
    "#replace 0 w/ other in installer column\n",
    "test_x['installer'] = test_x['installer'].replace('0', 'other')\n",
    "\n",
    "\n",
    "\n",
    "#relabel all funders w/ less than 100 wells other\n",
    "test_x['installer'] = test_x.apply(lambda row: row['installer'] if row['installer'] in installer_over_100 else 'other', axis = 1)\n",
    "\n",
    "test_x.scheme_name = test_x.scheme_name.fillna(test_x.region.map(scheme_name_modes))\n",
    "test_x.subvillage = test_x.subvillage.fillna(test_x.region.map(subvillage_modes))\n",
    "test_x.permit = test_x.permit.fillna(test_x.region.map(permit_modes))\n",
    "test_x.public_meeting = test_x.public_meeting.fillna(test_x.region.map(public_meeting_modes))\n",
    "\n",
    "test_x.latitude = test_x.apply(lambda row: latitude_means[row.region] if row.latitude ==  -2.000000e-08 else row.latitude, axis=1)\n",
    "\n",
    "test_x.longitude = test_x.apply(lambda row: longitude_means[row.region] if row.longitude ==  0 else row.longitude, axis=1)\n"
   ]
  },
  {
   "cell_type": "code",
   "execution_count": 36,
   "metadata": {},
   "outputs": [],
   "source": [
    "test_x.to_csv('test2.0.csv', index=False)\n",
    "train.to_csv('train2.0.csv', index=False)"
   ]
  }
 ],
 "metadata": {
  "kernelspec": {
   "display_name": "DS 5559",
   "language": "python",
   "name": "ds5559"
  },
  "language_info": {
   "codemirror_mode": {
    "name": "ipython",
    "version": 3
   },
   "file_extension": ".py",
   "mimetype": "text/x-python",
   "name": "python",
   "nbconvert_exporter": "python",
   "pygments_lexer": "ipython3",
   "version": "3.7.6"
  }
 },
 "nbformat": 4,
 "nbformat_minor": 4
}
