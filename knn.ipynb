{
 "cells": [
  {
   "cell_type": "code",
   "execution_count": 125,
   "metadata": {},
   "outputs": [],
   "source": [
    "#Naive Bayes\n",
    "import pandas as pd \n",
    "import numpy as np\n",
    "from sklearn.model_selection import cross_val_score\n",
    "from catboost import CatBoostClassifier\n",
    "from sklearn.model_selection import train_test_split, GridSearchCV\n",
    "from sklearn.metrics import confusion_matrix\n",
    "from sklearn.metrics import accuracy_score, make_scorer\n",
    "import matplotlib.pyplot as plt\n",
    "import seaborn as sn\n",
    "from sklearn.neighbors import KNeighborsClassifier \n"
   ]
  },
  {
   "cell_type": "code",
   "execution_count": 126,
   "metadata": {},
   "outputs": [],
   "source": [
    "#import the data\n",
    "train_x = pd.read_csv(\"train_dummy_upsampled_final.csv\")\n",
    "# train_y = pd.read_csv(\"TrainingSetLabels.csv\")\n",
    "test_x = pd.read_csv(\"test_dummy_final.csv\")\n",
    "data = pd.read_csv(\"names.csv\")"
   ]
  },
  {
   "cell_type": "code",
   "execution_count": null,
   "metadata": {},
   "outputs": [],
   "source": []
  },
  {
   "cell_type": "code",
   "execution_count": 127,
   "metadata": {},
   "outputs": [],
   "source": [
    "#drop permit \n",
    "train_x = train_x.drop(columns=['public_meeting','permit'])\n",
    "test_x = test_x.drop(columns=['public_meeting','permit'])"
   ]
  },
  {
   "cell_type": "code",
   "execution_count": null,
   "metadata": {},
   "outputs": [],
   "source": []
  },
  {
   "cell_type": "code",
   "execution_count": 128,
   "metadata": {},
   "outputs": [],
   "source": [
    "# # set ID as index for train x and y \n",
    "train_x = train_x.set_index(['id'])\n",
    "# train_y = train_y.set_index(['id'])"
   ]
  },
  {
   "cell_type": "code",
   "execution_count": 129,
   "metadata": {},
   "outputs": [],
   "source": [
    "#create x/y split for trianing \n",
    "train_y = pd.DataFrame(train_x['status_group'])\n",
    "train_x = train_x.drop(['status_group'], axis = 1)"
   ]
  },
  {
   "cell_type": "code",
   "execution_count": null,
   "metadata": {},
   "outputs": [],
   "source": []
  },
  {
   "cell_type": "code",
   "execution_count": 106,
   "metadata": {},
   "outputs": [],
   "source": [
    "#save test id and drop \n",
    "test_id = pd.DataFrame(test_x['id'])\n",
    "test_x = test_x.drop(['id'], axis = 1)"
   ]
  },
  {
   "cell_type": "code",
   "execution_count": 107,
   "metadata": {},
   "outputs": [],
   "source": [
    "# #convert output status group to 1,2,3 \n",
    " \n",
    "# replace_map = {\"non functional\":3, \n",
    "#               \"functional needs repair\":2,\n",
    "#               \"functional\":1}\n",
    "\n",
    "# train_y['status_group code'] = train_y['status_group'].replace(replace_map)"
   ]
  },
  {
   "cell_type": "code",
   "execution_count": 108,
   "metadata": {},
   "outputs": [],
   "source": [
    "#split data just for testing \n",
    "X_train, X_test, Y_train, Y_test = train_test_split(train_x, train_y, train_size=0.6, random_state=42)\n",
    "#Identify cat features for model\n",
    "categorical_features_indices = np.where(train_x.dtypes != np.float)[0]"
   ]
  },
  {
   "cell_type": "code",
   "execution_count": 109,
   "metadata": {},
   "outputs": [],
   "source": [
    "# # training a KNN classifier \n",
    "\n",
    "# knn = KNeighborsClassifier(n_neighbors = 3).fit(X_train, Y_train) \n",
    "  \n"
   ]
  },
  {
   "cell_type": "code",
   "execution_count": 110,
   "metadata": {},
   "outputs": [],
   "source": [
    "# # accuracy on X_test \n",
    "# accuracy = knn.score(X_test, Y_test) \n",
    "# print(accuracy)\n",
    "  \n",
    "# # creating a confusion matrix \n",
    "# knn_predictions = knn.predict(X_test)  \n",
    "# cm = confusion_matrix(Y_test, knn_predictions) "
   ]
  },
  {
   "cell_type": "code",
   "execution_count": null,
   "metadata": {},
   "outputs": [],
   "source": []
  },
  {
   "cell_type": "code",
   "execution_count": 111,
   "metadata": {},
   "outputs": [],
   "source": [
    "#full model \n",
    "knn = KNeighborsClassifier(n_neighbors = 3).fit(train_x, train_y) "
   ]
  },
  {
   "cell_type": "code",
   "execution_count": null,
   "metadata": {},
   "outputs": [],
   "source": []
  },
  {
   "cell_type": "code",
   "execution_count": 119,
   "metadata": {},
   "outputs": [],
   "source": [
    "#submision\n",
    "preds_class_full = knn.predict(test_x) \n"
   ]
  },
  {
   "cell_type": "code",
   "execution_count": 142,
   "metadata": {},
   "outputs": [],
   "source": [
    "preds_class_full = pd.DataFrame(preds_class_full)\n",
    "preds_class_full.columns = ['pre', 'pre1']\n",
    "preds_class_full = preds_class_full['pre']"
   ]
  },
  {
   "cell_type": "code",
   "execution_count": 143,
   "metadata": {},
   "outputs": [],
   "source": [
    "submission = pd.concat([test_id, preds_class_full], axis=1)\n",
    "submission.columns = ['id', 'status_group']\n",
    "replace_map2 = {2:\"non functional\", \n",
    "              1:\"functional needs repair\",\n",
    "              0:\"functional\"}\n",
    "\n",
    "submission['status_group'] = submission['status_group'].replace(replace_map2)\n",
    "submission.to_csv(\"submision_knn.csv\", index=False)"
   ]
  }
 ],
 "metadata": {
  "kernelspec": {
   "display_name": "Python 3",
   "language": "python",
   "name": "python3"
  },
  "language_info": {
   "codemirror_mode": {
    "name": "ipython",
    "version": 3
   },
   "file_extension": ".py",
   "mimetype": "text/x-python",
   "name": "python",
   "nbconvert_exporter": "python",
   "pygments_lexer": "ipython3",
   "version": "3.7.4"
  }
 },
 "nbformat": 4,
 "nbformat_minor": 4
}
