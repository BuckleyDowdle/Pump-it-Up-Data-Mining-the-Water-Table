{
 "cells": [
  {
   "cell_type": "code",
   "execution_count": 87,
   "metadata": {},
   "outputs": [],
   "source": [
    "import pandas as pd \n",
    "import numpy as np\n",
    "from sklearn.model_selection import cross_val_score\n",
    "from catboost import CatBoostClassifier\n",
    "from sklearn.model_selection import train_test_split, GridSearchCV\n",
    "from sklearn.metrics import confusion_matrix\n",
    "from sklearn.metrics import accuracy_score, make_scorer\n",
    "import matplotlib.pyplot as plt\n",
    "import seaborn as sn\n",
    "from sklearn.neighbors import KNeighborsClassifier \n",
    "from sklearn.model_selection import RandomizedSearchCV"
   ]
  },
  {
   "cell_type": "code",
   "execution_count": 88,
   "metadata": {},
   "outputs": [],
   "source": [
    "#import the data\n",
    "train_x = pd.read_csv(\"train_dummy_upsampled_final.csv\")\n",
    "# train_y = pd.read_csv(\"TrainingSetLabels.csv\")\n",
    "test_x = pd.read_csv(\"test_dummy_final.csv\")\n",
    "data = pd.read_csv(\"names.csv\")"
   ]
  },
  {
   "cell_type": "code",
   "execution_count": null,
   "metadata": {},
   "outputs": [],
   "source": []
  },
  {
   "cell_type": "code",
   "execution_count": 89,
   "metadata": {},
   "outputs": [],
   "source": [
    "#drop permit \n",
    "train_x = train_x.drop(columns=['public_meeting','permit'])\n",
    "test_x = test_x.drop(columns=['public_meeting','permit'])"
   ]
  },
  {
   "cell_type": "code",
   "execution_count": null,
   "metadata": {},
   "outputs": [],
   "source": []
  },
  {
   "cell_type": "code",
   "execution_count": 90,
   "metadata": {},
   "outputs": [],
   "source": [
    "# # set ID as index for train x and y \n",
    "train_x = train_x.set_index(['id'])\n",
    "# train_y = train_y.set_index(['id'])"
   ]
  },
  {
   "cell_type": "code",
   "execution_count": 91,
   "metadata": {},
   "outputs": [],
   "source": [
    "#create x/y split for trianing \n",
    "train_y = pd.DataFrame(train_x['status_group'])\n",
    "train_x = train_x.drop(['status_group'], axis = 1)"
   ]
  },
  {
   "cell_type": "code",
   "execution_count": null,
   "metadata": {},
   "outputs": [],
   "source": []
  },
  {
   "cell_type": "code",
   "execution_count": 92,
   "metadata": {},
   "outputs": [],
   "source": [
    "#save test id and drop \n",
    "test_id = pd.DataFrame(test_x['id'])\n",
    "test_x = test_x.drop(['id'], axis = 1)"
   ]
  },
  {
   "cell_type": "code",
   "execution_count": 93,
   "metadata": {},
   "outputs": [],
   "source": [
    "# #convert output status group to 1,2,3 \n",
    " \n",
    "# replace_map = {\"non functional\":3, \n",
    "#               \"functional needs repair\":2,\n",
    "#               \"functional\":1}\n",
    "\n",
    "# train_y['status_group code'] = train_y['status_group'].replace(replace_map)"
   ]
  },
  {
   "cell_type": "code",
   "execution_count": 97,
   "metadata": {},
   "outputs": [],
   "source": [
    "#split data just for testing \n",
    "X_train, X_test, Y_train, Y_test = train_test_split(train_x, train_y, train_size=0.6, random_state=42)\n",
    "#Identify cat features for model\n",
    "categorical_features_indices = np.where(train_x.dtypes != np.float)[0]"
   ]
  },
  {
   "cell_type": "code",
   "execution_count": null,
   "metadata": {},
   "outputs": [],
   "source": []
  },
  {
   "cell_type": "code",
   "execution_count": null,
   "metadata": {},
   "outputs": [],
   "source": []
  },
  {
   "cell_type": "code",
   "execution_count": 98,
   "metadata": {},
   "outputs": [
    {
     "name": "stdout",
     "output_type": "stream",
     "text": [
      "0.7747735592492011\n",
      "{'n_neighbors': 2, 'weights': 'distance'}\n"
     ]
    }
   ],
   "source": [
    "# knn = KNeighborsClassifier(n_neighbors = 10)\n",
    "\n",
    "#grid search and RandomizedSearchCV parapeters \n",
    "k_range = list(range(1, 31))\n",
    "weight_options = ['uniform', 'distance']\n",
    "\n",
    "\n",
    "# use grid search to find best parameters \n",
    "param_grid = dict(n_neighbors=k_range, weights=weight_options)\n",
    "grid = GridSearchCV(knn, param_grid, cv=10, scoring='accuracy', n_jobs = 40)\n",
    "# fit the grid with data\n",
    "grid.fit(X_train, Y_train.values.ravel())\n",
    "print(grid.best_score_)\n",
    "print(grid.best_params_)\n",
    "\n",
    "# #RandomizedSearchCV to reduce complexity \n",
    "# param_dist = dict(n_neighbors=k_range, weights=weight_options)\n",
    "\n",
    "# rand = RandomizedSearchCV(knn, param_dist, cv=10, scoring='accuracy', n_iter=10, random_state=5)\n",
    "# # fit the grid with data\n",
    "# rand.fit(X_train, Y_train.values.ravel())\n",
    "# print(rand.best_score_)\n",
    "# print(rand.best_params_)\n"
   ]
  },
  {
   "cell_type": "code",
   "execution_count": null,
   "metadata": {},
   "outputs": [],
   "source": []
  },
  {
   "cell_type": "code",
   "execution_count": 96,
   "metadata": {},
   "outputs": [
    {
     "name": "stdout",
     "output_type": "stream",
     "text": [
      "0.7941034649032169\n"
     ]
    }
   ],
   "source": [
    "# training a KNN classifier \n",
    "\n",
    "knn = KNeighborsClassifier(n_neighbors = 1 , weights = 'uniform')\n",
    "knn.fit(X_train, Y_train.values.ravel()) \n",
    "# accuracy on X_test \n",
    "accuracy = knn.score(X_test, Y_test) \n",
    "print(accuracy)\n",
    "  \n",
    "# creating a confusion matrix \n",
    "knn_predictions = knn.predict(X_test)  \n",
    "cm = confusion_matrix(Y_test, knn_predictions) "
   ]
  },
  {
   "cell_type": "code",
   "execution_count": 81,
   "metadata": {},
   "outputs": [],
   "source": [
    "#full model \n",
    "knn = KNeighborsClassifier(n_neighbors = 1 , weights = 'uniform').fit(train_x, train_y.values.ravel()) "
   ]
  },
  {
   "cell_type": "code",
   "execution_count": 82,
   "metadata": {},
   "outputs": [],
   "source": [
    "#submision\n",
    "preds_class_full = knn.predict(test_x) \n"
   ]
  },
  {
   "cell_type": "code",
   "execution_count": null,
   "metadata": {},
   "outputs": [],
   "source": []
  },
  {
   "cell_type": "code",
   "execution_count": 83,
   "metadata": {},
   "outputs": [],
   "source": [
    "preds_class_full = pd.DataFrame(preds_class_full)\n",
    "preds_class_full.columns = ['pre']\n",
    "preds_class_full = preds_class_full['pre']"
   ]
  },
  {
   "cell_type": "code",
   "execution_count": 84,
   "metadata": {},
   "outputs": [],
   "source": [
    "submission = pd.concat([test_id, preds_class_full], axis=1)\n",
    "submission.columns = ['id', 'status_group']\n",
    "replace_map2 = {2:\"non functional\", \n",
    "              1:\"functional needs repair\",\n",
    "              0:\"functional\"}\n",
    "\n",
    "submission['status_group'] = submission['status_group'].replace(replace_map2)\n",
    "submission.to_csv(\"submision_knn.csv\", index=False)"
   ]
  },
  {
   "cell_type": "code",
   "execution_count": null,
   "metadata": {},
   "outputs": [],
   "source": []
  }
 ],
 "metadata": {
  "kernelspec": {
   "display_name": "Python 3",
   "language": "python",
   "name": "python3"
  },
  "language_info": {
   "codemirror_mode": {
    "name": "ipython",
    "version": 3
   },
   "file_extension": ".py",
   "mimetype": "text/x-python",
   "name": "python",
   "nbconvert_exporter": "python",
   "pygments_lexer": "ipython3",
   "version": "3.7.4"
  }
 },
 "nbformat": 4,
 "nbformat_minor": 4
}
