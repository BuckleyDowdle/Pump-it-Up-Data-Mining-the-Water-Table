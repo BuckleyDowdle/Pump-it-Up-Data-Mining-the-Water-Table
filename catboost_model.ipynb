{
 "cells": [
  {
   "cell_type": "markdown",
   "metadata": {},
   "source": [
    "# CatBoost model "
   ]
  },
  {
   "cell_type": "code",
   "execution_count": 2,
   "metadata": {},
   "outputs": [],
   "source": [
    "import pandas as pd \n",
    "import numpy as np\n",
    "import matplotlib.pyplot as plt\n",
    "import random\n",
    "\n",
    "from sklearn.model_selection import cross_val_score\n",
    "from catboost import CatBoostClassifier\n",
    "from sklearn.model_selection import train_test_split, GridSearchCV\n",
    "from sklearn.metrics import confusion_matrix\n",
    "from sklearn.metrics import accuracy_score, make_scorer\n"
   ]
  },
  {
   "cell_type": "code",
   "execution_count": 2,
   "metadata": {},
   "outputs": [],
   "source": [
    "#import the data\n",
    "train = pd.read_csv(\"train2.0.csv\")\n",
    "test_x = pd.read_csv(\"test2.0.csv\")\n",
    "\n",
    "#set ID as index for train x and y \n",
    "train = train.set_index(['id'])"
   ]
  },
  {
   "cell_type": "code",
   "execution_count": 3,
   "metadata": {},
   "outputs": [],
   "source": [
    "# fix data type \n",
    "train['gps_height'] = train['gps_height'].astype('float64')\n",
    "train['construction_year'] = train['construction_year'].replace({0:np.nan, 0:np.nan})\n",
    "train['construction_year'] = train['construction_year'].astype('float64')\n",
    "\n",
    "\n",
    "# train.dtypes"
   ]
  },
  {
   "cell_type": "code",
   "execution_count": 4,
   "metadata": {},
   "outputs": [],
   "source": [
    "#create x/y split for trianing \n",
    "train_y = pd.DataFrame(train['status_group'])\n",
    "train_x = train.drop(['status_group'], axis = 1)\n",
    "\n",
    "#save test id and drop \n",
    "test_id = pd.DataFrame(test_x['id'])\n",
    "test_x = test_x.drop(['id'], axis = 1)"
   ]
  },
  {
   "cell_type": "code",
   "execution_count": 5,
   "metadata": {},
   "outputs": [],
   "source": [
    "#Imputing missing values for both train and test\n",
    "#needed for the format of catboost\n",
    "train_x.fillna(-999, inplace=True)\n",
    "test_x.fillna(-999,inplace=True)\n",
    "\n",
    "#convert Y to status group to 1,2,3 \n",
    "replace_map = {\"non functional\":3, \n",
    "              \"functional needs repair\":2,\n",
    "              \"functional\":1}\n",
    "\n",
    "train_y['status_group code'] = train_y['status_group'].replace(replace_map)\n",
    "\n",
    "#set data type for non int numbers\n",
    "train_x = train_x.astype({\"amount_tsh\": int})\n",
    "test_x = test_x.astype({\"amount_tsh\": int})"
   ]
  },
  {
   "cell_type": "markdown",
   "metadata": {},
   "source": [
    "## Grid Search\n",
    "This section of the code is commented out because it takes a long time to run grid search on the amount of data used for the CatBoost model.   \n",
    "\n",
    "After the best parameters were chosen they were added manually to the full model after grid search\n"
   ]
  },
  {
   "cell_type": "code",
   "execution_count": 6,
   "metadata": {},
   "outputs": [],
   "source": [
    "# transform the dataset\n",
    "y = train_y['status_group code']\n",
    "\n",
    "#split data just for testing \n",
    "X_train, X_test, Y_train, Y_test = train_test_split(train_x, y, train_size=0.6, random_state=42)\n",
    "#Identify cat features for model\n",
    "categorical_features_indices = np.where(train_x.dtypes != np.float)[0]"
   ]
  },
  {
   "cell_type": "code",
   "execution_count": 7,
   "metadata": {},
   "outputs": [],
   "source": [
    "#grid search parameters for catboost\n",
    "\n",
    "params = {'iterations': [1000],\n",
    "          'learning_rate': [0.01,0.05,.1],\n",
    "          'depth': [4,6,10],\n",
    "          'loss_function': ['MultiClass'],\n",
    "          'logging_level':['Silent'],\n",
    "          'random_seed': [42],\n",
    "          'eval_metric' :['AUC']}\n",
    "clf = CatBoostClassifier()\n",
    "\n",
    "params = {'depth':[10],\n",
    "          'iterations':[1000],\n",
    "          'learning_rate':[0.01,0.05,.1],\n",
    "            'logging_level':['Silent'],\n",
    "          'l2_leaf_reg':[10,50],\n",
    "          'eval_metric' :['AUC']}\n",
    "\n",
    "\n",
    "scorer = make_scorer(accuracy_score)\n",
    "clf_grid = GridSearchCV(estimator=clf, param_grid=params, scoring=scorer, cv=10, n_jobs = -1)\n",
    "\n",
    "clf_grid.fit(X_train, Y_train, cat_features=categorical_features_indices)\n",
    "best_param = clf_grid.best_params_\n",
    "\n",
    "# send best param to \n",
    "pd.DataFrame.from_dict(best_param, orient='index').to_csv('best_param_catboost.csv')\n"
   ]
  },
  {
   "cell_type": "code",
   "execution_count": 8,
   "metadata": {},
   "outputs": [],
   "source": [
    "testing gridsearched parameters \n",
    "# test model \n",
    "model_test = CatBoostClassifier(depth = 10, \n",
    "                               iterations = 1000,\n",
    "                               learning_rate = .1,\n",
    "                               l2_leaf_reg = 2,\n",
    "                               leaf_estimation_iterations = 10,\n",
    "                               loss_function = 'MultiClass',\n",
    "                               random_seed = 42,\n",
    "                               logging_level = 'Silent')\n",
    "                   \n",
    "model_test.fit(X_train, Y_train ,cat_features=categorical_features_indices)\n",
    "preds_class_full = model_test.predict(X_test)\n",
    "accuracy_score(preds_class_full,Y_test)\n",
    "array = confusion_matrix(preds_class_full,Y_test)\n",
    "np.asmatrix(array)/(sum(sum(array)))"
   ]
  },
  {
   "cell_type": "code",
   "execution_count": 9,
   "metadata": {},
   "outputs": [],
   "source": [
    "# caculating feature importance to consifer for feature tunning\n",
    "importance = pd.DataFrame({'feature_importance': model_test.get_feature_importance(), \n",
    "              'feature_names': train_x.columns}).sort_values(by=['feature_importance'], \n",
    "                                                           ascending=False)"
   ]
  },
  {
   "cell_type": "markdown",
   "metadata": {},
   "source": [
    "# Finial Model\n",
    "To increase the accuracy of the model we used 9 CatBoost models only changing the random seed on each iteration. This increased the submission classification rate by approximately 2% when compared to 1 model. The difference between submissions in the top 5%  is less than 1% change in classification rate making the additional computation time of 9 models worth it.\n"
   ]
  },
  {
   "cell_type": "code",
   "execution_count": 11,
   "metadata": {},
   "outputs": [],
   "source": [
    "# setting categorical features indices for CatBoost Model\n",
    "categorical_features_indices = np.where(train_x.dtypes != np.float)[0]\n"
   ]
  },
  {
   "cell_type": "code",
   "execution_count": 12,
   "metadata": {},
   "outputs": [
    {
     "name": "stdout",
     "output_type": "stream",
     "text": [
      "Model 1 Has completed\n",
      "Model 2 Has completed\n",
      "Model 3 Has completed\n",
      "Model 4 Has completed\n",
      "Model 5 Has completed\n",
      "Model 6 Has completed\n",
      "Model 7 Has completed\n",
      "Model 8 Has completed\n",
      "Model 9 Has completed\n"
     ]
    }
   ],
   "source": [
    "# full model based on grid search parameters\n",
    "# running full model 9 times on different random seeds to ensemble predictions\n",
    "\n",
    "predictions = test_id\n",
    "for i in range(9):\n",
    "    #full model    \n",
    "    randomseedx = random.randint(1,10000)\n",
    "    \n",
    "    model_full = CatBoostClassifier(depth = 10, \n",
    "                                   iterations = 1000,\n",
    "                                   loss_function = 'MultiClass',\n",
    "                                   random_seed = randomseedx,\n",
    "                                   logging_level = 'Silent',\n",
    "                                   l2_leaf_reg  = 10,\n",
    "                                   learning_rate = .05)\n",
    "\n",
    "    model_full.fit(train_x, train_y['status_group code'] ,cat_features=categorical_features_indices)\n",
    "    #Create predictions\n",
    "    preds_class_full = pd.DataFrame(model_full.predict(test_x))\n",
    "    names = 'Model ' + str(i+1)\n",
    "    predictions[names] = preds_class_full\n",
    "    print(names + \" Has completed\")"
   ]
  },
  {
   "cell_type": "markdown",
   "metadata": {},
   "source": [
    "# Ensemble 9 predictions\n",
    "We used majory vote of the 9 models to creat our final prediction"
   ]
  },
  {
   "cell_type": "code",
   "execution_count": 10,
   "metadata": {},
   "outputs": [],
   "source": [
    "#saving the Id for all prediction \n",
    "idval = predictions['id']\n",
    "\n",
    "#saving prediction to csv file \n",
    "predictions.to_csv(\"catboost_all_9_models_predictions.csv\", index=False)\n",
    "predicitons = predictions.drop(['id'], axis=1)\n",
    "# ensemble prediction by taking mode of 9 predictions\n",
    "predicitons= predicitons.mode(axis=1)\n",
    "\n",
    "#formating for output \n",
    "submission = pd.concat([idval,predicitons], axis = 1)\n",
    "submission.columns = ['id', 'status_group', 'na1','na2']\n",
    "submission = submission[['id', 'status_group']]\n",
    "\n",
    "#maping labels for contest submission format \n",
    "replace_map2 = {3:\"non functional\", \n",
    "              2:\"functional needs repair\",\n",
    "              1:\"functional\"}\n",
    "submission['status_group'] = submission['status_group'].replace(replace_map2)\n",
    "# exporting submission to csv\n",
    "submission.to_csv(\"submision_catboost.csv\", index=False)\n"
   ]
  },
  {
   "cell_type": "code",
   "execution_count": 11,
   "metadata": {},
   "outputs": [
    {
     "data": {
      "text/html": [
       "<div>\n",
       "<style scoped>\n",
       "    .dataframe tbody tr th:only-of-type {\n",
       "        vertical-align: middle;\n",
       "    }\n",
       "\n",
       "    .dataframe tbody tr th {\n",
       "        vertical-align: top;\n",
       "    }\n",
       "\n",
       "    .dataframe thead th {\n",
       "        text-align: right;\n",
       "    }\n",
       "</style>\n",
       "<table border=\"1\" class=\"dataframe\">\n",
       "  <thead>\n",
       "    <tr style=\"text-align: right;\">\n",
       "      <th></th>\n",
       "      <th>id</th>\n",
       "      <th>status_group</th>\n",
       "    </tr>\n",
       "  </thead>\n",
       "  <tbody>\n",
       "    <tr>\n",
       "      <th>0</th>\n",
       "      <td>50785</td>\n",
       "      <td>functional</td>\n",
       "    </tr>\n",
       "    <tr>\n",
       "      <th>1</th>\n",
       "      <td>51630</td>\n",
       "      <td>functional</td>\n",
       "    </tr>\n",
       "    <tr>\n",
       "      <th>2</th>\n",
       "      <td>17168</td>\n",
       "      <td>functional</td>\n",
       "    </tr>\n",
       "    <tr>\n",
       "      <th>3</th>\n",
       "      <td>45559</td>\n",
       "      <td>non functional</td>\n",
       "    </tr>\n",
       "    <tr>\n",
       "      <th>4</th>\n",
       "      <td>49871</td>\n",
       "      <td>functional</td>\n",
       "    </tr>\n",
       "    <tr>\n",
       "      <th>...</th>\n",
       "      <td>...</td>\n",
       "      <td>...</td>\n",
       "    </tr>\n",
       "    <tr>\n",
       "      <th>14845</th>\n",
       "      <td>39307</td>\n",
       "      <td>non functional</td>\n",
       "    </tr>\n",
       "    <tr>\n",
       "      <th>14846</th>\n",
       "      <td>18990</td>\n",
       "      <td>functional</td>\n",
       "    </tr>\n",
       "    <tr>\n",
       "      <th>14847</th>\n",
       "      <td>28749</td>\n",
       "      <td>functional</td>\n",
       "    </tr>\n",
       "    <tr>\n",
       "      <th>14848</th>\n",
       "      <td>33492</td>\n",
       "      <td>functional</td>\n",
       "    </tr>\n",
       "    <tr>\n",
       "      <th>14849</th>\n",
       "      <td>68707</td>\n",
       "      <td>non functional</td>\n",
       "    </tr>\n",
       "  </tbody>\n",
       "</table>\n",
       "<p>14850 rows × 2 columns</p>\n",
       "</div>"
      ],
      "text/plain": [
       "          id    status_group\n",
       "0      50785      functional\n",
       "1      51630      functional\n",
       "2      17168      functional\n",
       "3      45559  non functional\n",
       "4      49871      functional\n",
       "...      ...             ...\n",
       "14845  39307  non functional\n",
       "14846  18990      functional\n",
       "14847  28749      functional\n",
       "14848  33492      functional\n",
       "14849  68707  non functional\n",
       "\n",
       "[14850 rows x 2 columns]"
      ]
     },
     "execution_count": 11,
     "metadata": {},
     "output_type": "execute_result"
    }
   ],
   "source": [
    "# view submission\n",
    "submission"
   ]
  },
  {
   "cell_type": "markdown",
   "metadata": {},
   "source": [
    "# Submission Results\n",
    "After submitting to the Driven Data Competition our final submission sore was 0.8218 ranked by the Classification Rate $\\frac{1}{N}\\sum_{i=0}^{N}I(y_{i}=\\hat{y}_{i})$  which calculates the percentage of rows where the predicted class y in the submission matches the actual class, y in the test set. This puts up in the top 5% of submission at the time of entry and only 0.92% lower the top ranked model in the competition. \n",
    "\n",
    "\n"
   ]
  }
 ],
 "metadata": {
  "kernelspec": {
   "display_name": "Python 3",
   "language": "python",
   "name": "python3"
  },
  "language_info": {
   "codemirror_mode": {
    "name": "ipython",
    "version": 3
   },
   "file_extension": ".py",
   "mimetype": "text/x-python",
   "name": "python",
   "nbconvert_exporter": "python",
   "pygments_lexer": "ipython3",
   "version": "3.8.5"
  }
 },
 "nbformat": 4,
 "nbformat_minor": 4
}
