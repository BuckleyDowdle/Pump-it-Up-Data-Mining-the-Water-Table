{
 "cells": [
  {
   "cell_type": "code",
   "execution_count": 58,
   "metadata": {},
   "outputs": [],
   "source": [
    "import pandas as pd \n",
    "import numpy as np"
   ]
  },
  {
   "cell_type": "code",
   "execution_count": 59,
   "metadata": {},
   "outputs": [],
   "source": [
    "#choosing majority class\n",
    "\n",
    "knn = pd.read_csv(\"submision_knn.csv\")\n",
    "catboost = pd.read_csv(\"submision_catboost.csv\")\n",
    "xgboost = pd.read_csv(\"submision_catboost.csv\")"
   ]
  },
  {
   "cell_type": "code",
   "execution_count": 60,
   "metadata": {},
   "outputs": [],
   "source": [
    "submission = knn.merge(catboost,left_on='id', right_on='id')\n",
    "submission = submission.merge(xgboost,left_on='id', right_on='id')\n",
    "submission.columns = ['id', 'knn','catboost','xgboost'] "
   ]
  },
  {
   "cell_type": "code",
   "execution_count": 61,
   "metadata": {},
   "outputs": [],
   "source": [
    "idval = submission['id']\n",
    "submission = submission[['knn','catboost','xgboost']] "
   ]
  },
  {
   "cell_type": "code",
   "execution_count": 62,
   "metadata": {},
   "outputs": [],
   "source": [
    "submission = submission.mode(axis=1)\n",
    "submission = pd.concat([idval,submission], axis = 1)\n",
    "submission.columns = ['id','status_group']\n",
    "submission.to_csv(\"full_submision.csv\", index=False)"
   ]
  }
 ],
 "metadata": {
  "kernelspec": {
   "display_name": "Python 3",
   "language": "python",
   "name": "python3"
  },
  "language_info": {
   "codemirror_mode": {
    "name": "ipython",
    "version": 3
   },
   "file_extension": ".py",
   "mimetype": "text/x-python",
   "name": "python",
   "nbconvert_exporter": "python",
   "pygments_lexer": "ipython3",
   "version": "3.7.4"
  }
 },
 "nbformat": 4,
 "nbformat_minor": 4
}
