{
 "cells": [
  {
   "cell_type": "code",
   "execution_count": 39,
   "metadata": {},
   "outputs": [],
   "source": [
    "import pandas as pd \n",
    "import numpy as np"
   ]
  },
  {
   "cell_type": "code",
   "execution_count": 40,
   "metadata": {},
   "outputs": [],
   "source": [
    "#choosing majority class\n",
    "\n",
    "knn = pd.read_csv(\"submision_knn.csv\")\n",
    "catboost = pd.read_csv(\"submision_catboost.csv\")\n",
    "xgboost = pd.read_csv(\"submision_xgb.csv\")"
   ]
  },
  {
   "cell_type": "code",
   "execution_count": 41,
   "metadata": {},
   "outputs": [],
   "source": [
    "submission = knn.merge(catboost,left_on='id', right_on='id')\n",
    "submission = submission.merge(xgboost,left_on='id', right_on='id')\n",
    "submission.columns = ['id', 'knn','catboost','xgboost'] "
   ]
  },
  {
   "cell_type": "code",
   "execution_count": 42,
   "metadata": {},
   "outputs": [],
   "source": [
    "idval = submission['id']\n",
    "submission = submission[['knn','catboost','xgboost']] "
   ]
  },
  {
   "cell_type": "code",
   "execution_count": 43,
   "metadata": {},
   "outputs": [
    {
     "data": {
      "text/html": [
       "<div>\n",
       "<style scoped>\n",
       "    .dataframe tbody tr th:only-of-type {\n",
       "        vertical-align: middle;\n",
       "    }\n",
       "\n",
       "    .dataframe tbody tr th {\n",
       "        vertical-align: top;\n",
       "    }\n",
       "\n",
       "    .dataframe thead th {\n",
       "        text-align: right;\n",
       "    }\n",
       "</style>\n",
       "<table border=\"1\" class=\"dataframe\">\n",
       "  <thead>\n",
       "    <tr style=\"text-align: right;\">\n",
       "      <th></th>\n",
       "      <th>knn</th>\n",
       "      <th>catboost</th>\n",
       "      <th>xgboost</th>\n",
       "    </tr>\n",
       "  </thead>\n",
       "  <tbody>\n",
       "    <tr>\n",
       "      <th>0</th>\n",
       "      <td>functional</td>\n",
       "      <td>functional</td>\n",
       "      <td>functional</td>\n",
       "    </tr>\n",
       "    <tr>\n",
       "      <th>1</th>\n",
       "      <td>functional</td>\n",
       "      <td>functional</td>\n",
       "      <td>functional needs repair</td>\n",
       "    </tr>\n",
       "    <tr>\n",
       "      <th>2</th>\n",
       "      <td>functional</td>\n",
       "      <td>functional</td>\n",
       "      <td>functional</td>\n",
       "    </tr>\n",
       "    <tr>\n",
       "      <th>3</th>\n",
       "      <td>non functional</td>\n",
       "      <td>non functional</td>\n",
       "      <td>non functional</td>\n",
       "    </tr>\n",
       "    <tr>\n",
       "      <th>4</th>\n",
       "      <td>functional</td>\n",
       "      <td>functional</td>\n",
       "      <td>functional</td>\n",
       "    </tr>\n",
       "    <tr>\n",
       "      <th>...</th>\n",
       "      <td>...</td>\n",
       "      <td>...</td>\n",
       "      <td>...</td>\n",
       "    </tr>\n",
       "    <tr>\n",
       "      <th>14845</th>\n",
       "      <td>non functional</td>\n",
       "      <td>non functional</td>\n",
       "      <td>functional</td>\n",
       "    </tr>\n",
       "    <tr>\n",
       "      <th>14846</th>\n",
       "      <td>functional</td>\n",
       "      <td>functional</td>\n",
       "      <td>functional</td>\n",
       "    </tr>\n",
       "    <tr>\n",
       "      <th>14847</th>\n",
       "      <td>functional</td>\n",
       "      <td>functional</td>\n",
       "      <td>functional</td>\n",
       "    </tr>\n",
       "    <tr>\n",
       "      <th>14848</th>\n",
       "      <td>functional</td>\n",
       "      <td>functional</td>\n",
       "      <td>functional</td>\n",
       "    </tr>\n",
       "    <tr>\n",
       "      <th>14849</th>\n",
       "      <td>functional</td>\n",
       "      <td>non functional</td>\n",
       "      <td>non functional</td>\n",
       "    </tr>\n",
       "  </tbody>\n",
       "</table>\n",
       "<p>14850 rows × 3 columns</p>\n",
       "</div>"
      ],
      "text/plain": [
       "                  knn        catboost                  xgboost\n",
       "0          functional      functional               functional\n",
       "1          functional      functional  functional needs repair\n",
       "2          functional      functional               functional\n",
       "3      non functional  non functional           non functional\n",
       "4          functional      functional               functional\n",
       "...               ...             ...                      ...\n",
       "14845  non functional  non functional               functional\n",
       "14846      functional      functional               functional\n",
       "14847      functional      functional               functional\n",
       "14848      functional      functional               functional\n",
       "14849      functional  non functional           non functional\n",
       "\n",
       "[14850 rows x 3 columns]"
      ]
     },
     "execution_count": 43,
     "metadata": {},
     "output_type": "execute_result"
    }
   ],
   "source": [
    "submission"
   ]
  },
  {
   "cell_type": "code",
   "execution_count": 46,
   "metadata": {},
   "outputs": [],
   "source": [
    "#get odd model out\n",
    "submission.loc[(submission['knn'] == submission['catboost']) & (submission['xgboost'] == submission['catboost']), 'Odd One Out'] = 'All Equal' \n",
    "submission.loc[(submission['knn'] == submission['catboost']) & (submission['xgboost'] != submission['catboost']), 'Odd One Out'] = 'xgboost' \n",
    "submission.loc[(submission['knn'] != submission['catboost']) & (submission['xgboost'] == submission['catboost']), 'Odd One Out'] = 'knn' \n",
    "submission.loc[(submission['knn'] == submission['xgboost']) & (submission['xgboost'] != submission['catboost']), 'Odd One Out'] = 'catboost' \n"
   ]
  },
  {
   "cell_type": "code",
   "execution_count": 45,
   "metadata": {},
   "outputs": [
    {
     "name": "stdout",
     "output_type": "stream",
     "text": [
      "Odd One Out\n"
     ]
    },
    {
     "data": {
      "text/html": [
       "<div>\n",
       "<style scoped>\n",
       "    .dataframe tbody tr th:only-of-type {\n",
       "        vertical-align: middle;\n",
       "    }\n",
       "\n",
       "    .dataframe tbody tr th {\n",
       "        vertical-align: top;\n",
       "    }\n",
       "\n",
       "    .dataframe thead th {\n",
       "        text-align: right;\n",
       "    }\n",
       "</style>\n",
       "<table border=\"1\" class=\"dataframe\">\n",
       "  <thead>\n",
       "    <tr style=\"text-align: right;\">\n",
       "      <th></th>\n",
       "      <th>Odd One Out</th>\n",
       "      <th>% Odd One Out</th>\n",
       "    </tr>\n",
       "  </thead>\n",
       "  <tbody>\n",
       "    <tr>\n",
       "      <th>All Equal</th>\n",
       "      <td>8649</td>\n",
       "      <td>59.8%</td>\n",
       "    </tr>\n",
       "    <tr>\n",
       "      <th>knn</th>\n",
       "      <td>3425</td>\n",
       "      <td>23.7%</td>\n",
       "    </tr>\n",
       "    <tr>\n",
       "      <th>xgboost</th>\n",
       "      <td>1251</td>\n",
       "      <td>8.6%</td>\n",
       "    </tr>\n",
       "    <tr>\n",
       "      <th>catboost</th>\n",
       "      <td>1144</td>\n",
       "      <td>7.9%</td>\n",
       "    </tr>\n",
       "  </tbody>\n",
       "</table>\n",
       "</div>"
      ],
      "text/plain": [
       "           Odd One Out % Odd One Out\n",
       "All Equal         8649         59.8%\n",
       "knn               3425         23.7%\n",
       "xgboost           1251          8.6%\n",
       "catboost          1144          7.9%"
      ]
     },
     "execution_count": 45,
     "metadata": {},
     "output_type": "execute_result"
    }
   ],
   "source": [
    "print('Odd One Out')\n",
    "test = pd.DataFrame(submission['Odd One Out'].value_counts())\n",
    "test['% Odd One Out'] = test['Odd One Out']/14850 \n",
    "test['% Odd One Out'] = (100. * test['% Odd One Out'] / test['% Odd One Out'].sum()).round(1).astype(str) + '%'\n",
    "test"
   ]
  },
  {
   "cell_type": "code",
   "execution_count": 121,
   "metadata": {},
   "outputs": [],
   "source": [
    "#choose prediction by most offent occuring prediction of the 3 models\n",
    "submission = submission.mode(axis=1)\n",
    "submission.columns = ['status_group', 'na', 'na2']\n",
    "submission = submission['status_group']"
   ]
  },
  {
   "cell_type": "code",
   "execution_count": 122,
   "metadata": {},
   "outputs": [],
   "source": [
    "#format submission\n",
    "submission = pd.concat([idval,submission], axis = 1)\n",
    "# submission.columns = ['id','status_group']\n",
    "submission.to_csv(\"full_submision.csv\", index=False)"
   ]
  },
  {
   "cell_type": "code",
   "execution_count": null,
   "metadata": {},
   "outputs": [],
   "source": []
  }
 ],
 "metadata": {
  "kernelspec": {
   "display_name": "Python 3",
   "language": "python",
   "name": "python3"
  },
  "language_info": {
   "codemirror_mode": {
    "name": "ipython",
    "version": 3
   },
   "file_extension": ".py",
   "mimetype": "text/x-python",
   "name": "python",
   "nbconvert_exporter": "python",
   "pygments_lexer": "ipython3",
   "version": "3.7.4"
  }
 },
 "nbformat": 4,
 "nbformat_minor": 4
}
